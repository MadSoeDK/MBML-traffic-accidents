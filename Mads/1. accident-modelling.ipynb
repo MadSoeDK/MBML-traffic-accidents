{
 "cells": [
  {
   "cell_type": "code",
   "execution_count": 1,
   "metadata": {},
   "outputs": [],
   "source": [
    "import pandas as pd\n",
    "import geopandas as gpd\n",
    "import matplotlib.pyplot as plt\n",
    "import numpy as np\n",
    "import pyro.distributions as dist\n",
    "from pyro.infer import MCMC, NUTS, SVI, Trace_ELBO, autoguide, Predictive\n",
    "from pyro.optim import Adam\n",
    "import torch\n",
    "import pyro\n",
    "import seaborn as sns"
   ]
  },
  {
   "cell_type": "markdown",
   "metadata": {},
   "source": [
    "### Load data"
   ]
  },
  {
   "cell_type": "code",
   "execution_count": 2,
   "metadata": {},
   "outputs": [
    {
     "name": "stdout",
     "output_type": "stream",
     "text": [
      "<class 'pandas.core.frame.DataFrame'>\n",
      "DatetimeIndex: 8759 entries, 2023-01-01 00:00:00 to 2023-12-31 23:00:00\n",
      "Data columns (total 5 columns):\n",
      " #   Column             Non-Null Count  Dtype  \n",
      "---  ------             --------------  -----  \n",
      " 0   acc_precip         8759 non-null   float64\n",
      " 1   mean_temp          8759 non-null   float64\n",
      " 2   mean_relative_hum  8759 non-null   float64\n",
      " 3   mean_wind_speed    8759 non-null   float64\n",
      " 4   mean_radiation     8759 non-null   float64\n",
      "dtypes: float64(5)\n",
      "memory usage: 410.6 KB\n"
     ]
    }
   ],
   "source": [
    "df_weather = pd.read_csv('./data/2023_Weather.csv')\n",
    "df_weather.drop(columns=['Unnamed: 0'], inplace=True)\n",
    "df_weather.dropna(inplace=True)\n",
    "df_weather.rename(columns={'Time': 'datetime'}, inplace=True)\n",
    "df_weather['datetime'] = pd.to_datetime(df_weather['datetime'])\n",
    "df_weather.set_index('datetime', inplace=True)\n",
    "df_weather.info()"
   ]
  },
  {
   "cell_type": "code",
   "execution_count": 3,
   "metadata": {},
   "outputs": [],
   "source": [
    "# Read and parse\n",
    "df_acc = pd.read_csv('./data/2022-2024-accident-data.csv', sep=';', dtype=str, encoding='latin1')\n",
    "df_acc['X'] = df_acc['X_KOORDINAT'].str.replace(',', '.').astype(float)\n",
    "df_acc['Y'] = df_acc['Y_KOORDINAT'].str.replace(',', '.').astype(float)\n",
    "df_acc['datetime'] = pd.to_datetime(df_acc['UHELDSDATO'] + ' ' + df_acc['TIME'] + ':00', format='mixed') # %d.%m.%Y %H:%M"
   ]
  },
  {
   "cell_type": "code",
   "execution_count": 4,
   "metadata": {},
   "outputs": [
    {
     "data": {
      "application/vnd.microsoft.datawrangler.viewer.v0+json": {
       "columns": [
        {
         "name": "datetime",
         "rawType": "datetime64[ns]",
         "type": "datetime"
        },
        {
         "name": "X",
         "rawType": "float64",
         "type": "float"
        },
        {
         "name": "Y",
         "rawType": "float64",
         "type": "float"
        }
       ],
       "ref": "a6fc0a13-38da-488d-a9ef-9aead6796566",
       "rows": [
        [
         "2023-01-01 01:00:00",
         "722486.694",
         "6174248.234"
        ],
        [
         "2023-01-01 06:00:00",
         "723849.001",
         "6179181.001"
        ],
        [
         "2023-01-01 15:00:00",
         "724281.001",
         "6180047.001"
        ],
        [
         "2023-01-02 07:00:00",
         "725480.428",
         "6175703.304"
        ],
        [
         "2023-01-02 07:00:00",
         "725696.001",
         "6172194.001"
        ],
        [
         "2023-01-02 07:00:00",
         "721937.001",
         "6178834.001"
        ],
        [
         "2023-01-02 13:00:00",
         "725376.001",
         "6179292.001"
        ],
        [
         "2023-01-02 13:00:00",
         "723337.001",
         "6178326.001"
        ],
        [
         "2023-01-02 14:00:00",
         "725598.232",
         "6177460.554"
        ],
        [
         "2023-01-02 18:00:00",
         "721876.742",
         "6178636.472"
        ],
        [
         "2023-01-02 19:00:00",
         "725071.001",
         "6170834.001"
        ],
        [
         "2023-01-02 23:00:00",
         "724811.001",
         "6175751.001"
        ],
        [
         "2023-01-02 23:00:00",
         "720977.001",
         "6179812.001"
        ],
        [
         "2023-01-03 06:00:00",
         "722445.001",
         "6177922.001"
        ],
        [
         "2023-01-03 08:00:00",
         "723475.001",
         "6176572.001"
        ],
        [
         "2023-01-03 08:00:00",
         "724672.001",
         "6174076.001"
        ],
        [
         "2023-01-03 09:00:00",
         "726861.001",
         "6175532.001"
        ],
        [
         "2023-01-03 16:00:00",
         "723828.001",
         "6176333.001"
        ],
        [
         "2023-01-03 18:00:00",
         "726430.001",
         "6173516.001"
        ],
        [
         "2023-01-03 19:00:00",
         "725758.001",
         "6176300.001"
        ],
        [
         "2023-01-03 22:00:00",
         "722592.881",
         "6175078.99"
        ],
        [
         "2023-01-03 23:00:00",
         "722579.001",
         "6175071.001"
        ],
        [
         "2023-01-04 05:00:00",
         "722052.001",
         "6180103.001"
        ],
        [
         "2023-01-04 17:00:00",
         "719431.131",
         "6177479.169"
        ],
        [
         "2023-01-04 17:00:00",
         "722034.191",
         "6172847.03"
        ],
        [
         "2023-01-04 19:00:00",
         "725444.391",
         "6171456.616"
        ],
        [
         "2023-01-04 20:00:00",
         "725699.671",
         "6175603.56"
        ],
        [
         "2023-01-04 22:00:00",
         "717714.538",
         "6179227.971"
        ],
        [
         "2023-01-05 00:00:00",
         "726202.001",
         "6175713.001"
        ],
        [
         "2023-01-05 11:00:00",
         "727555.528",
         "6172216.94"
        ],
        [
         "2023-01-05 11:00:00",
         "723964.001",
         "6175539.001"
        ],
        [
         "2023-01-05 15:00:00",
         "719695.943",
         "6180346.494"
        ],
        [
         "2023-01-05 17:00:00",
         "722671.001",
         "6179076.001"
        ],
        [
         "2023-01-05 18:00:00",
         "722888.883",
         "6177911.406"
        ],
        [
         "2023-01-06 07:00:00",
         "721166.001",
         "6174157.001"
        ],
        [
         "2023-01-06 08:00:00",
         "722041.571",
         "6172596.14"
        ],
        [
         "2023-01-06 10:00:00",
         "723937.001",
         "6175642.001"
        ],
        [
         "2023-01-06 12:00:00",
         "719582.001",
         "6176464.001"
        ],
        [
         "2023-01-06 13:00:00",
         "720154.001",
         "6173814.001"
        ],
        [
         "2023-01-06 13:00:00",
         "723659.617",
         "6177176.355"
        ],
        [
         "2023-01-06 14:00:00",
         "724721.316",
         "6179504.732"
        ],
        [
         "2023-01-06 14:00:00",
         "720944.001",
         "6174400.001"
        ],
        [
         "2023-01-06 18:00:00",
         "719393.001",
         "6176793.001"
        ],
        [
         "2023-01-06 18:00:00",
         "724840.235",
         "6170856.81"
        ],
        [
         "2023-01-07 04:00:00",
         "724715.483",
         "6177786.718"
        ],
        [
         "2023-01-07 06:00:00",
         "718996.144",
         "6176315.805"
        ],
        [
         "2023-01-07 10:00:00",
         "719696.781",
         "6177513.59"
        ],
        [
         "2023-01-07 11:00:00",
         "727308.001",
         "6174904.001"
        ],
        [
         "2023-01-07 12:00:00",
         "723851.841",
         "6176928.35"
        ],
        [
         "2023-01-07 13:00:00",
         "723958.001",
         "6175667.001"
        ]
       ],
       "shape": {
        "columns": 2,
        "rows": 2071
       }
      },
      "text/html": [
       "<div>\n",
       "<style scoped>\n",
       "    .dataframe tbody tr th:only-of-type {\n",
       "        vertical-align: middle;\n",
       "    }\n",
       "\n",
       "    .dataframe tbody tr th {\n",
       "        vertical-align: top;\n",
       "    }\n",
       "\n",
       "    .dataframe thead th {\n",
       "        text-align: right;\n",
       "    }\n",
       "</style>\n",
       "<table border=\"1\" class=\"dataframe\">\n",
       "  <thead>\n",
       "    <tr style=\"text-align: right;\">\n",
       "      <th></th>\n",
       "      <th>X</th>\n",
       "      <th>Y</th>\n",
       "    </tr>\n",
       "    <tr>\n",
       "      <th>datetime</th>\n",
       "      <th></th>\n",
       "      <th></th>\n",
       "    </tr>\n",
       "  </thead>\n",
       "  <tbody>\n",
       "    <tr>\n",
       "      <th>2023-01-01 01:00:00</th>\n",
       "      <td>722486.694</td>\n",
       "      <td>6174248.234</td>\n",
       "    </tr>\n",
       "    <tr>\n",
       "      <th>2023-01-01 06:00:00</th>\n",
       "      <td>723849.001</td>\n",
       "      <td>6179181.001</td>\n",
       "    </tr>\n",
       "    <tr>\n",
       "      <th>2023-01-01 15:00:00</th>\n",
       "      <td>724281.001</td>\n",
       "      <td>6180047.001</td>\n",
       "    </tr>\n",
       "    <tr>\n",
       "      <th>2023-01-02 07:00:00</th>\n",
       "      <td>725480.428</td>\n",
       "      <td>6175703.304</td>\n",
       "    </tr>\n",
       "    <tr>\n",
       "      <th>2023-01-02 07:00:00</th>\n",
       "      <td>725696.001</td>\n",
       "      <td>6172194.001</td>\n",
       "    </tr>\n",
       "    <tr>\n",
       "      <th>...</th>\n",
       "      <td>...</td>\n",
       "      <td>...</td>\n",
       "    </tr>\n",
       "    <tr>\n",
       "      <th>2023-12-31 11:00:00</th>\n",
       "      <td>725767.621</td>\n",
       "      <td>6175295.080</td>\n",
       "    </tr>\n",
       "    <tr>\n",
       "      <th>2023-12-31 14:00:00</th>\n",
       "      <td>721999.001</td>\n",
       "      <td>6174749.001</td>\n",
       "    </tr>\n",
       "    <tr>\n",
       "      <th>2023-12-31 14:00:00</th>\n",
       "      <td>727656.001</td>\n",
       "      <td>6174998.001</td>\n",
       "    </tr>\n",
       "    <tr>\n",
       "      <th>2023-12-31 16:00:00</th>\n",
       "      <td>725049.314</td>\n",
       "      <td>6180348.763</td>\n",
       "    </tr>\n",
       "    <tr>\n",
       "      <th>2023-12-31 20:00:00</th>\n",
       "      <td>724298.688</td>\n",
       "      <td>6175372.587</td>\n",
       "    </tr>\n",
       "  </tbody>\n",
       "</table>\n",
       "<p>2071 rows × 2 columns</p>\n",
       "</div>"
      ],
      "text/plain": [
       "                              X            Y\n",
       "datetime                                    \n",
       "2023-01-01 01:00:00  722486.694  6174248.234\n",
       "2023-01-01 06:00:00  723849.001  6179181.001\n",
       "2023-01-01 15:00:00  724281.001  6180047.001\n",
       "2023-01-02 07:00:00  725480.428  6175703.304\n",
       "2023-01-02 07:00:00  725696.001  6172194.001\n",
       "...                         ...          ...\n",
       "2023-12-31 11:00:00  725767.621  6175295.080\n",
       "2023-12-31 14:00:00  721999.001  6174749.001\n",
       "2023-12-31 14:00:00  727656.001  6174998.001\n",
       "2023-12-31 16:00:00  725049.314  6180348.763\n",
       "2023-12-31 20:00:00  724298.688  6175372.587\n",
       "\n",
       "[2071 rows x 2 columns]"
      ]
     },
     "execution_count": 4,
     "metadata": {},
     "output_type": "execute_result"
    }
   ],
   "source": [
    "# Filter data\n",
    "cols = ['X', 'Y', 'datetime']\n",
    "\n",
    "df_acc = df_acc[cols]\n",
    "df_acc = df_acc[(df_acc['datetime'] > '2023-01-01') & (df_acc['datetime'] < '2024-01-01')]\n",
    "df_acc.sort_values(by='datetime', inplace=True)\n",
    "df_acc.set_index('datetime', inplace=True)\n",
    "df_acc"
   ]
  },
  {
   "cell_type": "code",
   "execution_count": 5,
   "metadata": {},
   "outputs": [
    {
     "data": {
      "text/plain": [
       "(np.float64(717264.445),\n",
       " np.float64(729236.087),\n",
       " np.float64(6168713.565),\n",
       " np.float64(6181581.001))"
      ]
     },
     "execution_count": 5,
     "metadata": {},
     "output_type": "execute_result"
    }
   ],
   "source": [
    "df_acc['X'].min(), df_acc['X'].max(), df_acc['Y'].min(), df_acc['Y'].max()"
   ]
  },
  {
   "cell_type": "code",
   "execution_count": 6,
   "metadata": {},
   "outputs": [
    {
     "data": {
      "application/vnd.microsoft.datawrangler.viewer.v0+json": {
       "columns": [
        {
         "name": "datetime",
         "rawType": "datetime64[ns]",
         "type": "datetime"
        },
        {
         "name": "X",
         "rawType": "float64",
         "type": "float"
        },
        {
         "name": "Y",
         "rawType": "float64",
         "type": "float"
        }
       ],
       "ref": "c5277b64-2785-4a07-b7ea-8372ee0e0869",
       "rows": [
        [
         "2023-01-01 01:00:00",
         "722486.694",
         "6174248.234"
        ],
        [
         "2023-01-02 07:00:00",
         "725480.428",
         "6175703.304"
        ],
        [
         "2023-01-02 13:00:00",
         "723337.001",
         "6178326.001"
        ],
        [
         "2023-01-02 14:00:00",
         "725598.232",
         "6177460.554"
        ],
        [
         "2023-01-02 23:00:00",
         "724811.001",
         "6175751.001"
        ],
        [
         "2023-01-03 06:00:00",
         "722445.001",
         "6177922.001"
        ],
        [
         "2023-01-03 08:00:00",
         "723475.001",
         "6176572.001"
        ],
        [
         "2023-01-03 08:00:00",
         "724672.001",
         "6174076.001"
        ],
        [
         "2023-01-03 16:00:00",
         "723828.001",
         "6176333.001"
        ],
        [
         "2023-01-03 19:00:00",
         "725758.001",
         "6176300.001"
        ],
        [
         "2023-01-03 22:00:00",
         "722592.881",
         "6175078.99"
        ],
        [
         "2023-01-03 23:00:00",
         "722579.001",
         "6175071.001"
        ],
        [
         "2023-01-04 20:00:00",
         "725699.671",
         "6175603.56"
        ],
        [
         "2023-01-05 00:00:00",
         "726202.001",
         "6175713.001"
        ],
        [
         "2023-01-05 11:00:00",
         "723964.001",
         "6175539.001"
        ],
        [
         "2023-01-05 18:00:00",
         "722888.883",
         "6177911.406"
        ],
        [
         "2023-01-06 10:00:00",
         "723937.001",
         "6175642.001"
        ],
        [
         "2023-01-06 13:00:00",
         "723659.617",
         "6177176.355"
        ],
        [
         "2023-01-07 04:00:00",
         "724715.483",
         "6177786.718"
        ],
        [
         "2023-01-07 12:00:00",
         "723851.841",
         "6176928.35"
        ],
        [
         "2023-01-07 13:00:00",
         "723958.001",
         "6175667.001"
        ],
        [
         "2023-01-07 16:00:00",
         "723263.001",
         "6176743.001"
        ],
        [
         "2023-01-07 17:00:00",
         "725286.172",
         "6176495.575"
        ],
        [
         "2023-01-08 14:00:00",
         "724419.001",
         "6173920.001"
        ],
        [
         "2023-01-08 18:00:00",
         "725032.001",
         "6176245.001"
        ],
        [
         "2023-01-08 19:00:00",
         "723890.001",
         "6175565.001"
        ],
        [
         "2023-01-09 12:00:00",
         "724058.001",
         "6175608.001"
        ],
        [
         "2023-01-10 14:00:00",
         "723395.001",
         "6177584.001"
        ],
        [
         "2023-01-11 10:00:00",
         "722500.001",
         "6174872.001"
        ],
        [
         "2023-01-11 10:00:00",
         "724471.182",
         "6176577.915"
        ],
        [
         "2023-01-11 20:00:00",
         "722983.001",
         "6174404.001"
        ],
        [
         "2023-01-11 22:00:00",
         "724816.001",
         "6175758.001"
        ],
        [
         "2023-01-12 01:00:00",
         "725394.001",
         "6176740.001"
        ],
        [
         "2023-01-12 10:00:00",
         "724677.001",
         "6176653.001"
        ],
        [
         "2023-01-12 19:00:00",
         "721381.999",
         "6177932.997"
        ],
        [
         "2023-01-13 13:00:00",
         "722602.001",
         "6177014.001"
        ],
        [
         "2023-01-13 22:00:00",
         "724205.287",
         "6175948.428"
        ],
        [
         "2023-01-14 18:00:00",
         "722349.001",
         "6178030.001"
        ],
        [
         "2023-01-15 02:00:00",
         "724560.001",
         "6176161.001"
        ],
        [
         "2023-01-15 16:00:00",
         "721421.168",
         "6178140.391"
        ],
        [
         "2023-01-17 19:00:00",
         "725248.001",
         "6176172.001"
        ],
        [
         "2023-01-18 11:00:00",
         "723488.001",
         "6176551.001"
        ],
        [
         "2023-01-18 17:00:00",
         "723598.891",
         "6176496.519"
        ],
        [
         "2023-01-19 10:00:00",
         "721722.001",
         "6173899.001"
        ],
        [
         "2023-01-19 16:00:00",
         "721592.96",
         "6177942.609"
        ],
        [
         "2023-01-20 07:00:00",
         "722349.001",
         "6178012.001"
        ],
        [
         "2023-01-20 17:00:00",
         "725537.271",
         "6174711.05"
        ],
        [
         "2023-01-21 23:00:00",
         "722763.001",
         "6174264.001"
        ],
        [
         "2023-01-22 02:00:00",
         "724945.001",
         "6174036.001"
        ],
        [
         "2023-01-22 05:00:00",
         "724031.001",
         "6176176.001"
        ]
       ],
       "shape": {
        "columns": 2,
        "rows": 886
       }
      },
      "text/html": [
       "<div>\n",
       "<style scoped>\n",
       "    .dataframe tbody tr th:only-of-type {\n",
       "        vertical-align: middle;\n",
       "    }\n",
       "\n",
       "    .dataframe tbody tr th {\n",
       "        vertical-align: top;\n",
       "    }\n",
       "\n",
       "    .dataframe thead th {\n",
       "        text-align: right;\n",
       "    }\n",
       "</style>\n",
       "<table border=\"1\" class=\"dataframe\">\n",
       "  <thead>\n",
       "    <tr style=\"text-align: right;\">\n",
       "      <th></th>\n",
       "      <th>X</th>\n",
       "      <th>Y</th>\n",
       "    </tr>\n",
       "    <tr>\n",
       "      <th>datetime</th>\n",
       "      <th></th>\n",
       "      <th></th>\n",
       "    </tr>\n",
       "  </thead>\n",
       "  <tbody>\n",
       "    <tr>\n",
       "      <th>2023-01-01 01:00:00</th>\n",
       "      <td>722486.694</td>\n",
       "      <td>6174248.234</td>\n",
       "    </tr>\n",
       "    <tr>\n",
       "      <th>2023-01-02 07:00:00</th>\n",
       "      <td>725480.428</td>\n",
       "      <td>6175703.304</td>\n",
       "    </tr>\n",
       "    <tr>\n",
       "      <th>2023-01-02 13:00:00</th>\n",
       "      <td>723337.001</td>\n",
       "      <td>6178326.001</td>\n",
       "    </tr>\n",
       "    <tr>\n",
       "      <th>2023-01-02 14:00:00</th>\n",
       "      <td>725598.232</td>\n",
       "      <td>6177460.554</td>\n",
       "    </tr>\n",
       "    <tr>\n",
       "      <th>2023-01-02 23:00:00</th>\n",
       "      <td>724811.001</td>\n",
       "      <td>6175751.001</td>\n",
       "    </tr>\n",
       "    <tr>\n",
       "      <th>...</th>\n",
       "      <td>...</td>\n",
       "      <td>...</td>\n",
       "    </tr>\n",
       "    <tr>\n",
       "      <th>2023-12-30 11:00:00</th>\n",
       "      <td>726025.001</td>\n",
       "      <td>6175306.001</td>\n",
       "    </tr>\n",
       "    <tr>\n",
       "      <th>2023-12-30 20:00:00</th>\n",
       "      <td>721566.884</td>\n",
       "      <td>6174131.992</td>\n",
       "    </tr>\n",
       "    <tr>\n",
       "      <th>2023-12-31 11:00:00</th>\n",
       "      <td>725767.621</td>\n",
       "      <td>6175295.080</td>\n",
       "    </tr>\n",
       "    <tr>\n",
       "      <th>2023-12-31 14:00:00</th>\n",
       "      <td>721999.001</td>\n",
       "      <td>6174749.001</td>\n",
       "    </tr>\n",
       "    <tr>\n",
       "      <th>2023-12-31 20:00:00</th>\n",
       "      <td>724298.688</td>\n",
       "      <td>6175372.587</td>\n",
       "    </tr>\n",
       "  </tbody>\n",
       "</table>\n",
       "<p>886 rows × 2 columns</p>\n",
       "</div>"
      ],
      "text/plain": [
       "                              X            Y\n",
       "datetime                                    \n",
       "2023-01-01 01:00:00  722486.694  6174248.234\n",
       "2023-01-02 07:00:00  725480.428  6175703.304\n",
       "2023-01-02 13:00:00  723337.001  6178326.001\n",
       "2023-01-02 14:00:00  725598.232  6177460.554\n",
       "2023-01-02 23:00:00  724811.001  6175751.001\n",
       "...                         ...          ...\n",
       "2023-12-30 11:00:00  726025.001  6175306.001\n",
       "2023-12-30 20:00:00  721566.884  6174131.992\n",
       "2023-12-31 11:00:00  725767.621  6175295.080\n",
       "2023-12-31 14:00:00  721999.001  6174749.001\n",
       "2023-12-31 20:00:00  724298.688  6175372.587\n",
       "\n",
       "[886 rows x 2 columns]"
      ]
     },
     "execution_count": 6,
     "metadata": {},
     "output_type": "execute_result"
    }
   ],
   "source": [
    "# Reduce data size by reducing area size\n",
    "# To check boundary values: df_acc['X'].min(), df_acc['X'].max(), df_acc['Y'].min(), df_acc['Y'].max()\n",
    "X_MIN_CUTOFF = 721264.445001#721000\n",
    "X_MAX_CUTOFF = 726236.087#728000\n",
    "Y_MIN_CUTOFF = 6173713.565195#6160000\n",
    "Y_MAX_CUTOFF = 6178581.001#6180000\n",
    "\n",
    "df_acc = df_acc[(df_acc['X'] <= X_MAX_CUTOFF) & (df_acc['X'] >= X_MIN_CUTOFF) &\n",
    "                (df_acc['Y'] <= Y_MAX_CUTOFF) & (df_acc['Y'] >= Y_MIN_CUTOFF)].copy()\n",
    "\n",
    "df_acc"
   ]
  },
  {
   "cell_type": "code",
   "execution_count": 7,
   "metadata": {},
   "outputs": [],
   "source": [
    "# Calculate grid\n",
    "CELL_SIZE = 500\n",
    "\n",
    "# Compute origin\n",
    "minx, miny = df_acc['X'].min(), df_acc['Y'].min()\n",
    "\n",
    "# Compute bin indices with floor\n",
    "df_acc['ix'] = np.floor((df_acc['X'] - minx) // CELL_SIZE).astype(int)\n",
    "df_acc['iy'] = np.floor((df_acc['Y'] - miny) // CELL_SIZE).astype(int)\n",
    "    \n",
    "# First, calculate the center coordinates for each cell\n",
    "df_acc['center_x'] = minx + (df_acc['ix'] + 0.5) * CELL_SIZE\n",
    "df_acc['center_y'] = miny + (df_acc['iy'] + 0.5) * CELL_SIZE\n",
    "\n",
    "df_acc['cell_id'] = list(zip(df_acc['center_x'], \n",
    "                        df_acc['center_y']))\n",
    "\n",
    "# Now groupby with the calculated centers\n",
    "df_acc_centers = df_acc.groupby(['cell_id', 'datetime']).agg({\n",
    "    'X': 'first',\n",
    "    'Y': 'first'\n",
    "})\n",
    "\n",
    "df_acc_centers['acc_count'] = df_acc.groupby(['cell_id', 'datetime']).size()"
   ]
  },
  {
   "cell_type": "code",
   "execution_count": 8,
   "metadata": {},
   "outputs": [],
   "source": [
    "unique_cells = df_acc_centers.index.get_level_values('cell_id').unique()\n",
    "hours  = df_weather.index\n",
    "idx = pd.MultiIndex.from_product([unique_cells, hours],\n",
    "                                names=['cell_id', 'datetime'])\n",
    "\n",
    "df_hourly = pd.DataFrame(index=idx)\n"
   ]
  },
  {
   "cell_type": "code",
   "execution_count": 9,
   "metadata": {},
   "outputs": [],
   "source": [
    "# cell_id is tuple of grid center coordinates, while X and Y are the coordinates of the accident (NaN if no accident at given time)\n",
    "df_hourly = df_hourly.join(df_acc_centers['acc_count']).fillna({'acc_count': 0}).astype({'acc_count': int})\n",
    "df_hourly[['X', 'Y']] = df_acc_centers[['X', 'Y']]\n",
    "df_hourly['hour'] = df_hourly.index.get_level_values('datetime').hour"
   ]
  },
  {
   "cell_type": "code",
   "execution_count": 10,
   "metadata": {},
   "outputs": [
    {
     "data": {
      "application/vnd.microsoft.datawrangler.viewer.v0+json": {
       "columns": [
        {
         "name": "('cell_id', 'datetime')",
         "rawType": "object",
         "type": "unknown"
        },
        {
         "name": "acc_count",
         "rawType": "int64",
         "type": "integer"
        },
        {
         "name": "X",
         "rawType": "float64",
         "type": "float"
        },
        {
         "name": "Y",
         "rawType": "float64",
         "type": "float"
        },
        {
         "name": "hour",
         "rawType": "int32",
         "type": "integer"
        }
       ],
       "ref": "a2701315-a518-40a6-aeb3-5eb078dbbe08",
       "rows": [
        [
         "((721516.001, 6173966.657), Timestamp('2023-01-01 00:00:00'))",
         "0",
         null,
         null,
         "0"
        ],
        [
         "((721516.001, 6173966.657), Timestamp('2023-01-01 01:00:00'))",
         "0",
         null,
         null,
         "1"
        ],
        [
         "((721516.001, 6173966.657), Timestamp('2023-01-01 02:00:00'))",
         "0",
         null,
         null,
         "2"
        ],
        [
         "((721516.001, 6173966.657), Timestamp('2023-01-01 03:00:00'))",
         "0",
         null,
         null,
         "3"
        ],
        [
         "((721516.001, 6173966.657), Timestamp('2023-01-01 04:00:00'))",
         "0",
         null,
         null,
         "4"
        ],
        [
         "((721516.001, 6173966.657), Timestamp('2023-01-01 05:00:00'))",
         "0",
         null,
         null,
         "5"
        ],
        [
         "((721516.001, 6173966.657), Timestamp('2023-01-01 06:00:00'))",
         "0",
         null,
         null,
         "6"
        ],
        [
         "((721516.001, 6173966.657), Timestamp('2023-01-01 07:00:00'))",
         "0",
         null,
         null,
         "7"
        ],
        [
         "((721516.001, 6173966.657), Timestamp('2023-01-01 08:00:00'))",
         "0",
         null,
         null,
         "8"
        ],
        [
         "((721516.001, 6173966.657), Timestamp('2023-01-01 09:00:00'))",
         "0",
         null,
         null,
         "9"
        ],
        [
         "((721516.001, 6173966.657), Timestamp('2023-01-01 10:00:00'))",
         "0",
         null,
         null,
         "10"
        ],
        [
         "((721516.001, 6173966.657), Timestamp('2023-01-01 11:00:00'))",
         "0",
         null,
         null,
         "11"
        ],
        [
         "((721516.001, 6173966.657), Timestamp('2023-01-01 12:00:00'))",
         "0",
         null,
         null,
         "12"
        ],
        [
         "((721516.001, 6173966.657), Timestamp('2023-01-01 13:00:00'))",
         "0",
         null,
         null,
         "13"
        ],
        [
         "((721516.001, 6173966.657), Timestamp('2023-01-01 14:00:00'))",
         "0",
         null,
         null,
         "14"
        ],
        [
         "((721516.001, 6173966.657), Timestamp('2023-01-01 15:00:00'))",
         "0",
         null,
         null,
         "15"
        ],
        [
         "((721516.001, 6173966.657), Timestamp('2023-01-01 16:00:00'))",
         "0",
         null,
         null,
         "16"
        ],
        [
         "((721516.001, 6173966.657), Timestamp('2023-01-01 17:00:00'))",
         "0",
         null,
         null,
         "17"
        ],
        [
         "((721516.001, 6173966.657), Timestamp('2023-01-01 18:00:00'))",
         "0",
         null,
         null,
         "18"
        ],
        [
         "((721516.001, 6173966.657), Timestamp('2023-01-01 19:00:00'))",
         "0",
         null,
         null,
         "19"
        ],
        [
         "((721516.001, 6173966.657), Timestamp('2023-01-01 20:00:00'))",
         "0",
         null,
         null,
         "20"
        ],
        [
         "((721516.001, 6173966.657), Timestamp('2023-01-01 21:00:00'))",
         "0",
         null,
         null,
         "21"
        ],
        [
         "((721516.001, 6173966.657), Timestamp('2023-01-01 22:00:00'))",
         "0",
         null,
         null,
         "22"
        ],
        [
         "((721516.001, 6173966.657), Timestamp('2023-01-01 23:00:00'))",
         "0",
         null,
         null,
         "23"
        ],
        [
         "((721516.001, 6173966.657), Timestamp('2023-01-02 00:00:00'))",
         "0",
         null,
         null,
         "0"
        ],
        [
         "((721516.001, 6173966.657), Timestamp('2023-01-02 01:00:00'))",
         "0",
         null,
         null,
         "1"
        ],
        [
         "((721516.001, 6173966.657), Timestamp('2023-01-02 02:00:00'))",
         "0",
         null,
         null,
         "2"
        ],
        [
         "((721516.001, 6173966.657), Timestamp('2023-01-02 03:00:00'))",
         "0",
         null,
         null,
         "3"
        ],
        [
         "((721516.001, 6173966.657), Timestamp('2023-01-02 04:00:00'))",
         "0",
         null,
         null,
         "4"
        ],
        [
         "((721516.001, 6173966.657), Timestamp('2023-01-02 05:00:00'))",
         "0",
         null,
         null,
         "5"
        ],
        [
         "((721516.001, 6173966.657), Timestamp('2023-01-02 06:00:00'))",
         "0",
         null,
         null,
         "6"
        ],
        [
         "((721516.001, 6173966.657), Timestamp('2023-01-02 07:00:00'))",
         "0",
         null,
         null,
         "7"
        ],
        [
         "((721516.001, 6173966.657), Timestamp('2023-01-02 08:00:00'))",
         "0",
         null,
         null,
         "8"
        ],
        [
         "((721516.001, 6173966.657), Timestamp('2023-01-02 09:00:00'))",
         "0",
         null,
         null,
         "9"
        ],
        [
         "((721516.001, 6173966.657), Timestamp('2023-01-02 10:00:00'))",
         "0",
         null,
         null,
         "10"
        ],
        [
         "((721516.001, 6173966.657), Timestamp('2023-01-02 11:00:00'))",
         "0",
         null,
         null,
         "11"
        ],
        [
         "((721516.001, 6173966.657), Timestamp('2023-01-02 12:00:00'))",
         "0",
         null,
         null,
         "12"
        ],
        [
         "((721516.001, 6173966.657), Timestamp('2023-01-02 13:00:00'))",
         "0",
         null,
         null,
         "13"
        ],
        [
         "((721516.001, 6173966.657), Timestamp('2023-01-02 14:00:00'))",
         "0",
         null,
         null,
         "14"
        ],
        [
         "((721516.001, 6173966.657), Timestamp('2023-01-02 15:00:00'))",
         "0",
         null,
         null,
         "15"
        ],
        [
         "((721516.001, 6173966.657), Timestamp('2023-01-02 16:00:00'))",
         "0",
         null,
         null,
         "16"
        ],
        [
         "((721516.001, 6173966.657), Timestamp('2023-01-02 17:00:00'))",
         "0",
         null,
         null,
         "17"
        ],
        [
         "((721516.001, 6173966.657), Timestamp('2023-01-02 18:00:00'))",
         "0",
         null,
         null,
         "18"
        ],
        [
         "((721516.001, 6173966.657), Timestamp('2023-01-02 19:00:00'))",
         "0",
         null,
         null,
         "19"
        ],
        [
         "((721516.001, 6173966.657), Timestamp('2023-01-02 20:00:00'))",
         "0",
         null,
         null,
         "20"
        ],
        [
         "((721516.001, 6173966.657), Timestamp('2023-01-02 21:00:00'))",
         "0",
         null,
         null,
         "21"
        ],
        [
         "((721516.001, 6173966.657), Timestamp('2023-01-02 22:00:00'))",
         "0",
         null,
         null,
         "22"
        ],
        [
         "((721516.001, 6173966.657), Timestamp('2023-01-02 23:00:00'))",
         "0",
         null,
         null,
         "23"
        ],
        [
         "((721516.001, 6173966.657), Timestamp('2023-01-03 00:00:00'))",
         "0",
         null,
         null,
         "0"
        ],
        [
         "((721516.001, 6173966.657), Timestamp('2023-01-03 01:00:00'))",
         "0",
         null,
         null,
         "1"
        ]
       ],
       "shape": {
        "columns": 4,
        "rows": 718238
       }
      },
      "text/html": [
       "<div>\n",
       "<style scoped>\n",
       "    .dataframe tbody tr th:only-of-type {\n",
       "        vertical-align: middle;\n",
       "    }\n",
       "\n",
       "    .dataframe tbody tr th {\n",
       "        vertical-align: top;\n",
       "    }\n",
       "\n",
       "    .dataframe thead th {\n",
       "        text-align: right;\n",
       "    }\n",
       "</style>\n",
       "<table border=\"1\" class=\"dataframe\">\n",
       "  <thead>\n",
       "    <tr style=\"text-align: right;\">\n",
       "      <th></th>\n",
       "      <th></th>\n",
       "      <th>acc_count</th>\n",
       "      <th>X</th>\n",
       "      <th>Y</th>\n",
       "      <th>hour</th>\n",
       "    </tr>\n",
       "    <tr>\n",
       "      <th>cell_id</th>\n",
       "      <th>datetime</th>\n",
       "      <th></th>\n",
       "      <th></th>\n",
       "      <th></th>\n",
       "      <th></th>\n",
       "    </tr>\n",
       "  </thead>\n",
       "  <tbody>\n",
       "    <tr>\n",
       "      <th rowspan=\"5\" valign=\"top\">(721516.001, 6173966.657)</th>\n",
       "      <th>2023-01-01 00:00:00</th>\n",
       "      <td>0</td>\n",
       "      <td>NaN</td>\n",
       "      <td>NaN</td>\n",
       "      <td>0</td>\n",
       "    </tr>\n",
       "    <tr>\n",
       "      <th>2023-01-01 01:00:00</th>\n",
       "      <td>0</td>\n",
       "      <td>NaN</td>\n",
       "      <td>NaN</td>\n",
       "      <td>1</td>\n",
       "    </tr>\n",
       "    <tr>\n",
       "      <th>2023-01-01 02:00:00</th>\n",
       "      <td>0</td>\n",
       "      <td>NaN</td>\n",
       "      <td>NaN</td>\n",
       "      <td>2</td>\n",
       "    </tr>\n",
       "    <tr>\n",
       "      <th>2023-01-01 03:00:00</th>\n",
       "      <td>0</td>\n",
       "      <td>NaN</td>\n",
       "      <td>NaN</td>\n",
       "      <td>3</td>\n",
       "    </tr>\n",
       "    <tr>\n",
       "      <th>2023-01-01 04:00:00</th>\n",
       "      <td>0</td>\n",
       "      <td>NaN</td>\n",
       "      <td>NaN</td>\n",
       "      <td>4</td>\n",
       "    </tr>\n",
       "    <tr>\n",
       "      <th>...</th>\n",
       "      <th>...</th>\n",
       "      <td>...</td>\n",
       "      <td>...</td>\n",
       "      <td>...</td>\n",
       "      <td>...</td>\n",
       "    </tr>\n",
       "    <tr>\n",
       "      <th rowspan=\"5\" valign=\"top\">(726016.001, 6177966.657)</th>\n",
       "      <th>2023-12-31 19:00:00</th>\n",
       "      <td>0</td>\n",
       "      <td>NaN</td>\n",
       "      <td>NaN</td>\n",
       "      <td>19</td>\n",
       "    </tr>\n",
       "    <tr>\n",
       "      <th>2023-12-31 20:00:00</th>\n",
       "      <td>0</td>\n",
       "      <td>NaN</td>\n",
       "      <td>NaN</td>\n",
       "      <td>20</td>\n",
       "    </tr>\n",
       "    <tr>\n",
       "      <th>2023-12-31 21:00:00</th>\n",
       "      <td>0</td>\n",
       "      <td>NaN</td>\n",
       "      <td>NaN</td>\n",
       "      <td>21</td>\n",
       "    </tr>\n",
       "    <tr>\n",
       "      <th>2023-12-31 22:00:00</th>\n",
       "      <td>0</td>\n",
       "      <td>NaN</td>\n",
       "      <td>NaN</td>\n",
       "      <td>22</td>\n",
       "    </tr>\n",
       "    <tr>\n",
       "      <th>2023-12-31 23:00:00</th>\n",
       "      <td>0</td>\n",
       "      <td>NaN</td>\n",
       "      <td>NaN</td>\n",
       "      <td>23</td>\n",
       "    </tr>\n",
       "  </tbody>\n",
       "</table>\n",
       "<p>718238 rows × 4 columns</p>\n",
       "</div>"
      ],
      "text/plain": [
       "                                               acc_count   X   Y  hour\n",
       "cell_id                   datetime                                    \n",
       "(721516.001, 6173966.657) 2023-01-01 00:00:00          0 NaN NaN     0\n",
       "                          2023-01-01 01:00:00          0 NaN NaN     1\n",
       "                          2023-01-01 02:00:00          0 NaN NaN     2\n",
       "                          2023-01-01 03:00:00          0 NaN NaN     3\n",
       "                          2023-01-01 04:00:00          0 NaN NaN     4\n",
       "...                                                  ...  ..  ..   ...\n",
       "(726016.001, 6177966.657) 2023-12-31 19:00:00          0 NaN NaN    19\n",
       "                          2023-12-31 20:00:00          0 NaN NaN    20\n",
       "                          2023-12-31 21:00:00          0 NaN NaN    21\n",
       "                          2023-12-31 22:00:00          0 NaN NaN    22\n",
       "                          2023-12-31 23:00:00          0 NaN NaN    23\n",
       "\n",
       "[718238 rows x 4 columns]"
      ]
     },
     "execution_count": 10,
     "metadata": {},
     "output_type": "execute_result"
    }
   ],
   "source": [
    "df_hourly"
   ]
  },
  {
   "cell_type": "markdown",
   "metadata": {},
   "source": [
    "### Plotting data"
   ]
  },
  {
   "cell_type": "markdown",
   "metadata": {},
   "source": [
    "Plotting function"
   ]
  },
  {
   "cell_type": "code",
   "execution_count": 11,
   "metadata": {},
   "outputs": [],
   "source": [
    "def plot_grid_counts(cell_centers, accidents=None):\n",
    "    \"\"\"\n",
    "    Draws a coloured grid and overlays the accidents.\n",
    "    :param cell_centers: series with the center coordinates of each cell as index, and with the accident counts per cell\n",
    "    :param accidents: tuple with the coordinates of each accident\n",
    "    \"\"\"\n",
    "    vmax = cell_centers.max()\n",
    "    fig, ax = plt.subplots(figsize=(7,7))\n",
    "\n",
    "    # draw each occupied cell\n",
    "    for center_coords, count in cell_centers.items():\n",
    "        # Extract center coordinates\n",
    "        center_x, center_y = center_coords\n",
    "        \n",
    "        # Calculate top-left corner of the cell\n",
    "        x0 = center_x - CELL_SIZE/2\n",
    "        y0 = center_y - CELL_SIZE/2\n",
    "\n",
    "        rect = plt.Rectangle(\n",
    "            (x0, y0),\n",
    "            CELL_SIZE, CELL_SIZE,\n",
    "            facecolor=plt.cm.OrRd(count/vmax),\n",
    "            edgecolor='grey', linewidth=0\n",
    "        )\n",
    "        ax.add_patch(rect)\n",
    "\n",
    "    # Optional: scatter accident points if provided\n",
    "    if accidents is not None:\n",
    "        x = accidents[0]\n",
    "        y = accidents[1]\n",
    "        ax.scatter(x=x, y=y, s=5, c='black')    \n",
    "\n",
    "    # Set plot properties\n",
    "    ax.set_aspect('equal')\n",
    "    plt.xlabel('X Coordinate (m)')\n",
    "    plt.ylabel('Y Coordinate (m)')\n",
    "    plt.title(f'Grid Cell Counts (Cell Size: {CELL_SIZE}m)')\n",
    "    \n",
    "    # Set reasonable axis limits based on the data\n",
    "    all_x = [x for x, y in cell_centers.index]\n",
    "    all_y = [y for x, y in cell_centers.index]\n",
    "    x_min, x_max = min(all_x) - CELL_SIZE, max(all_x) + CELL_SIZE\n",
    "    y_min, y_max = min(all_y) - CELL_SIZE, max(all_y) + CELL_SIZE\n",
    "    plt.xlim(x_min, x_max)\n",
    "    plt.ylim(y_min, y_max)\n",
    "    \n",
    "    plt.tight_layout()\n",
    "    plt.colorbar(plt.cm.ScalarMappable(cmap=\"OrRd\", \n",
    "                                       norm=plt.Normalize(0, vmax)), \n",
    "                 ax=ax, label=\"Count\")\n",
    "    plt.show()"
   ]
  },
  {
   "cell_type": "markdown",
   "metadata": {},
   "source": [
    "First try only to plot the accidents in january (the \"small\" dataset)\n"
   ]
  },
  {
   "cell_type": "code",
   "execution_count": 16,
   "metadata": {},
   "outputs": [],
   "source": [
    "january_mask = df_hourly.index.get_level_values('datetime') < '2023-03-31 23:59:59'\n",
    "df_hourly_january = df_hourly[january_mask]"
   ]
  },
  {
   "cell_type": "code",
   "execution_count": 17,
   "metadata": {},
   "outputs": [
    {
     "data": {
      "image/png": "[encoded data removed]",
      "text/plain": [
       "<Figure size 700x700 with 2 Axes>"
      ]
     },
     "metadata": {},
     "output_type": "display_data"
    }
   ],
   "source": [
    "cell_centers = df_hourly_january[df_hourly_january['acc_count'] != 0].index.get_level_values('cell_id').value_counts()\n",
    "accidents = (df_hourly_january['X'].tolist(), df_hourly_january['Y'].tolist())\n",
    "plot_grid_counts(cell_centers, accidents)"
   ]
  },
  {
   "cell_type": "markdown",
   "metadata": {},
   "source": [
    "Now plot the full dataset (2023 accidents). You can see the contours of the Copenhagen roads."
   ]
  },
  {
   "cell_type": "code",
   "execution_count": 14,
   "metadata": {},
   "outputs": [
    {
     "data": {
      "image/png": "[encoded data removed]",
      "text/plain": [
       "<Figure size 700x700 with 2 Axes>"
      ]
     },
     "metadata": {},
     "output_type": "display_data"
    }
   ],
   "source": [
    "cell_centers = df_hourly[df_hourly['acc_count'] != 0].index.get_level_values('cell_id').value_counts()\n",
    "accidents = (df_hourly['X'].tolist(), df_hourly['Y'].tolist())\n",
    "plot_grid_counts(cell_centers, accidents)"
   ]
  },
  {
   "cell_type": "code",
   "execution_count": 15,
   "metadata": {},
   "outputs": [
    {
     "data": {
      "image/png": "[encoded data removed]",
      "text/plain": [
       "<Figure size 1200x600 with 1 Axes>"
      ]
     },
     "metadata": {},
     "output_type": "display_data"
    },
    {
     "data": {
      "image/png": "[encoded data removed]",
      "text/plain": [
       "<Figure size 1200x600 with 1 Axes>"
      ]
     },
     "metadata": {},
     "output_type": "display_data"
    }
   ],
   "source": [
    "def plot_accident_month(accidents):\n",
    "    # Add month name column\n",
    "    accidents['month_name'] = accidents['datetime'].dt.month_name()\n",
    "    accidents['month_num'] = accidents['datetime'].dt.month \n",
    "\n",
    "    # Create the plot sorted by month number\n",
    "    plt.figure(figsize=(12, 6))\n",
    "    sns.barplot(x='month_name', y='acc_count', data=accidents)\n",
    "\n",
    "    # Customize the plot\n",
    "    plt.title('Monthly Distribution of Accidents', fontsize=16)\n",
    "    plt.xlabel('Month', fontsize=14)\n",
    "    plt.ylabel('Number of Accidents', fontsize=14)\n",
    "    plt.xticks(rotation=45)\n",
    "    plt.grid(True, axis='y', linestyle='--', alpha=0.7)\n",
    "    plt.tight_layout()\n",
    "\n",
    "    plt.show()\n",
    "\n",
    "def plot_accident_hour(accidents):\n",
    "    accidents['hour'] = accidents['datetime'].dt.hour\n",
    "\n",
    "    # Create the plot sorted by month number\n",
    "    plt.figure(figsize=(12, 6))\n",
    "    sns.barplot(x='hour', y='acc_count', data=accidents)\n",
    "\n",
    "    # Customize the plot\n",
    "    plt.title('Hourly Distribution of Accidents', fontsize=16)\n",
    "    plt.xlabel('Hour of Day', fontsize=14)\n",
    "    plt.ylabel('Number of Accidents', fontsize=14)\n",
    "    plt.xticks(rotation=45)\n",
    "    plt.grid(True, axis='y', linestyle='--', alpha=0.7)\n",
    "    plt.tight_layout()\n",
    "\n",
    "plot_accident_month(df_hourly['acc_count'].groupby(pd.Grouper(level='datetime', freq='ME')).sum().to_frame().reset_index())\n",
    "plot_accident_hour(df_hourly['acc_count'].groupby(pd.Grouper(level='datetime', freq='h')).sum().to_frame().reset_index())"
   ]
  },
  {
   "cell_type": "code",
   "execution_count": 18,
   "metadata": {},
   "outputs": [],
   "source": [
    "df_hourly_january.to_csv('./data/df_hourly_january_february_march.csv')"
   ]
  },
  {
   "cell_type": "markdown",
   "metadata": {},
   "source": [
    "TODO: Change the code below. Instead of aggregating the data to daily, look at a smaller time window or less cells at a time"
   ]
  },
  {
   "cell_type": "code",
   "execution_count": 17,
   "metadata": {},
   "outputs": [
    {
     "data": {
      "text/html": [
       "<div>\n",
       "<style scoped>\n",
       "    .dataframe tbody tr th:only-of-type {\n",
       "        vertical-align: middle;\n",
       "    }\n",
       "\n",
       "    .dataframe tbody tr th {\n",
       "        vertical-align: top;\n",
       "    }\n",
       "\n",
       "    .dataframe thead th {\n",
       "        text-align: right;\n",
       "    }\n",
       "</style>\n",
       "<table border=\"1\" class=\"dataframe\">\n",
       "  <thead>\n",
       "    <tr style=\"text-align: right;\">\n",
       "      <th></th>\n",
       "      <th></th>\n",
       "      <th>acc_count</th>\n",
       "      <th>day_of_year</th>\n",
       "    </tr>\n",
       "    <tr>\n",
       "      <th>cell_id</th>\n",
       "      <th>datetime</th>\n",
       "      <th></th>\n",
       "      <th></th>\n",
       "    </tr>\n",
       "  </thead>\n",
       "  <tbody>\n",
       "    <tr>\n",
       "      <th rowspan=\"5\" valign=\"top\">(717514.445, 6177963.565)</th>\n",
       "      <th>2023-01-01</th>\n",
       "      <td>0</td>\n",
       "      <td>1</td>\n",
       "    </tr>\n",
       "    <tr>\n",
       "      <th>2023-01-02</th>\n",
       "      <td>0</td>\n",
       "      <td>2</td>\n",
       "    </tr>\n",
       "    <tr>\n",
       "      <th>2023-01-03</th>\n",
       "      <td>0</td>\n",
       "      <td>3</td>\n",
       "    </tr>\n",
       "    <tr>\n",
       "      <th>2023-01-04</th>\n",
       "      <td>0</td>\n",
       "      <td>4</td>\n",
       "    </tr>\n",
       "    <tr>\n",
       "      <th>2023-01-05</th>\n",
       "      <td>0</td>\n",
       "      <td>5</td>\n",
       "    </tr>\n",
       "    <tr>\n",
       "      <th>...</th>\n",
       "      <th>...</th>\n",
       "      <td>...</td>\n",
       "      <td>...</td>\n",
       "    </tr>\n",
       "    <tr>\n",
       "      <th rowspan=\"5\" valign=\"top\">(729014.445, 6173963.565)</th>\n",
       "      <th>2023-12-27</th>\n",
       "      <td>0</td>\n",
       "      <td>361</td>\n",
       "    </tr>\n",
       "    <tr>\n",
       "      <th>2023-12-28</th>\n",
       "      <td>0</td>\n",
       "      <td>362</td>\n",
       "    </tr>\n",
       "    <tr>\n",
       "      <th>2023-12-29</th>\n",
       "      <td>0</td>\n",
       "      <td>363</td>\n",
       "    </tr>\n",
       "    <tr>\n",
       "      <th>2023-12-30</th>\n",
       "      <td>0</td>\n",
       "      <td>364</td>\n",
       "    </tr>\n",
       "    <tr>\n",
       "      <th>2023-12-31</th>\n",
       "      <td>0</td>\n",
       "      <td>365</td>\n",
       "    </tr>\n",
       "  </tbody>\n",
       "</table>\n",
       "<p>112420 rows × 2 columns</p>\n",
       "</div>"
      ],
      "text/plain": [
       "                                      acc_count  day_of_year\n",
       "cell_id                   datetime                          \n",
       "(717514.445, 6177963.565) 2023-01-01          0            1\n",
       "                          2023-01-02          0            2\n",
       "                          2023-01-03          0            3\n",
       "                          2023-01-04          0            4\n",
       "                          2023-01-05          0            5\n",
       "...                                         ...          ...\n",
       "(729014.445, 6173963.565) 2023-12-27          0          361\n",
       "                          2023-12-28          0          362\n",
       "                          2023-12-29          0          363\n",
       "                          2023-12-30          0          364\n",
       "                          2023-12-31          0          365\n",
       "\n",
       "[112420 rows x 2 columns]"
      ]
     },
     "execution_count": 17,
     "metadata": {},
     "output_type": "execute_result"
    }
   ],
   "source": [
    "df_daily = (\n",
    "    df_hourly\n",
    "    .groupby(\n",
    "        [\n",
    "          \"cell_id\", \n",
    "          pd.Grouper(level=df_hourly.index.names[1], freq=\"D\")  \n",
    "          # <─ here df.index.names[0] should be the datetime level’s name\n",
    "        ]\n",
    "    )[\"acc_count\"]\n",
    "    .sum()\n",
    "    #.reset_index()\n",
    ")\n",
    "df = pd.DataFrame(df_daily)\n",
    "df['day_of_year'] = df.index.get_level_values('datetime').dayofyear\n",
    "df"
   ]
  },
  {
   "cell_type": "markdown",
   "metadata": {},
   "source": [
    "## Input and model"
   ]
  },
  {
   "cell_type": "code",
   "execution_count": 73,
   "metadata": {},
   "outputs": [],
   "source": [
    "cell_map = {c: i for i, c in enumerate(unique_cells)} # map cells to integers from 0...len(unique_cells)-1\n",
    "\n",
    "# Input tensors\n",
    "cell_idx_tensor = torch.tensor(\n",
    "    df.index.get_level_values(\"cell_id\").map(cell_map).to_numpy(), dtype=torch.long\n",
    ")\n",
    "day_idx_tensor = torch.tensor(\n",
    "    df.index.get_level_values(\"datetime\").day_of_year.to_numpy(), dtype=torch.long\n",
    ")\n",
    "y_obs_tensor = torch.tensor(df[\"acc_count\"].values, dtype=torch.long)"
   ]
  },
  {
   "cell_type": "code",
   "execution_count": 74,
   "metadata": {},
   "outputs": [],
   "source": [
    "# models\n",
    "def poisson_daily_model(cell_idx, day_idx, y=None):\n",
    "    N = len(cell_idx)\n",
    "    C = int(cell_idx.max()) + 1\n",
    "    D = int(day_idx.max()) + 1\n",
    "\n",
    "    sigma_u = pyro.sample(\"sigma_u\", dist.HalfNormal(1.))\n",
    "    alpha = pyro.sample(\"alpha\", dist.Normal(-6, 0.5))\n",
    "\n",
    "    with pyro.plate(\"cells\", C):\n",
    "        u = pyro.sample(\"u\", dist.Normal(0., sigma_u))\n",
    "\n",
    "    with pyro.plate(\"doy\", D):\n",
    "        beta_doy = pyro.sample(\"beta_doy\", dist.Normal(0., 1.))\n",
    "\n",
    "    with pyro.plate(\"data\", N):\n",
    "        n = alpha + u[cell_idx] + beta_doy[day_idx]\n",
    "        lam = torch.exp(n)\n",
    "        pyro.sample(\"obs\", dist.Poisson(lam), obs=y)\n"
   ]
  },
  {
   "cell_type": "markdown",
   "metadata": {},
   "source": [
    "### MCMC"
   ]
  },
  {
   "cell_type": "code",
   "execution_count": 75,
   "metadata": {},
   "outputs": [
    {
     "name": "stderr",
     "output_type": "stream",
     "text": [
      "Sample: 100%|██████████| 200/200 [00:37,  5.30it/s, step size=1.80e-01, acc. prob=0.925]\n"
     ]
    }
   ],
   "source": [
    "# --- MCMC Inference ---\n",
    "nuts_kernel = NUTS(poisson_daily_model)\n",
    "mcmc = MCMC(nuts_kernel, num_samples=150, warmup_steps=50)\n",
    "mcmc.run(cell_idx_tensor, day_idx_tensor, y=y_obs_tensor)\n",
    "\n",
    "posterior_samples = mcmc.get_samples()\n",
    "predictive = Predictive(\n",
    "    poisson_daily_model,\n",
    "    posterior_samples=posterior_samples,\n",
    "    return_sites=[\"obs\"]\n",
    ")\n",
    "mcmc_samples = predictive(cell_idx=cell_idx_tensor, day_idx=day_idx_tensor, y=None)[\"obs\"]"
   ]
  },
  {
   "cell_type": "code",
   "execution_count": 76,
   "metadata": {},
   "outputs": [
    {
     "data": {
      "image/png": "[encoded data removed]",
      "text/plain": [
       "<Figure size 1200x600 with 1 Axes>"
      ]
     },
     "metadata": {},
     "output_type": "display_data"
    }
   ],
   "source": [
    "sample_cell_id = (717514.445, 6177963.565)  # pick one cell\n",
    "mask = df.index.get_level_values(\"cell_id\") == sample_cell_id\n",
    "\n",
    "dates = df.index.get_level_values(\"datetime\")[mask]\n",
    "observed = y_obs_tensor[mask].numpy()\n",
    "y_pred_samples_cell = mcmc_samples[:, mask].mean(0)  # shape: [num_samples, N_days_cell]\n",
    "\n",
    "# Plot\n",
    "plt.figure(figsize=(12, 6))\n",
    "plt.plot(dates, observed, label=\"Observed\", color='black')\n",
    "plt.plot(dates, y_pred_samples_cell, label=\"Predicted Mean\", color='blue')\n",
    "plt.title(\"Observed vs Predicted Daily Accidents\")\n",
    "plt.xlabel(\"Date\")\n",
    "plt.ylabel(\"Accident Count\")\n",
    "plt.grid(True)\n",
    "plt.legend()\n",
    "plt.tight_layout()\n",
    "plt.show()"
   ]
  },
  {
   "cell_type": "markdown",
   "metadata": {},
   "source": [
    "### SVI"
   ]
  },
  {
   "cell_type": "code",
   "execution_count": 77,
   "metadata": {},
   "outputs": [
    {
     "name": "stdout",
     "output_type": "stream",
     "text": [
      "[   0] loss = 12909.6\n",
      "[ 200] loss = 11047.8\n",
      "[ 400] loss = 10624.7\n",
      "[ 600] loss = 10524.8\n",
      "[ 800] loss = 10543.5\n",
      "[1000] loss = 10525.7\n",
      "[1200] loss = 10539.4\n",
      "[1400] loss = 10534.7\n",
      "[1600] loss = 10528.2\n",
      "[1800] loss = 10528.5\n"
     ]
    }
   ],
   "source": [
    "# --- SVI Inference ---\n",
    "guide = autoguide.AutoNormal(poisson_daily_model)\n",
    "optim = Adam({\"lr\": 1e-2})\n",
    "svi = SVI(poisson_daily_model, guide, optim, loss=Trace_ELBO())\n",
    "\n",
    "for step in range(2000):\n",
    "    loss = svi.step(cell_idx_tensor, day_idx_tensor, y_obs_tensor)\n",
    "    if step % 200 == 0:\n",
    "        print(f\"[{step:4d}] loss = {loss:.1f}\")"
   ]
  },
  {
   "cell_type": "code",
   "execution_count": 80,
   "metadata": {},
   "outputs": [],
   "source": [
    "# SVI\n",
    "svi_predictive = Predictive(\n",
    "    poisson_daily_model,\n",
    "    guide=guide,\n",
    "    num_samples=1000,\n",
    "    return_sites=[\"obs\"]\n",
    ")\n",
    "svi_samples = svi_predictive(\n",
    "    cell_idx=cell_idx_tensor,\n",
    "    day_idx=day_idx_tensor,\n",
    "    y=None\n",
    ")[\"obs\"]"
   ]
  },
  {
   "cell_type": "code",
   "execution_count": 81,
   "metadata": {},
   "outputs": [
    {
     "data": {
      "image/png": "[encoded data removed]",
      "text/plain": [
       "<Figure size 1200x600 with 1 Axes>"
      ]
     },
     "metadata": {},
     "output_type": "display_data"
    }
   ],
   "source": [
    "sample_cell_id = (717514.445, 6177963.565)  # pick one cell\n",
    "mask = df.index.get_level_values(\"cell_id\") == sample_cell_id\n",
    "\n",
    "dates = df.index.get_level_values(\"datetime\")[mask]\n",
    "observed = y_obs_tensor[mask].numpy()\n",
    "y_pred_samples_cell = mcmc_samples[:, mask].mean(0)  # shape: [num_samples, N_days_cell]\n",
    "\n",
    "# Plot\n",
    "plt.figure(figsize=(12, 6))\n",
    "plt.plot(dates, observed, label=\"Observed\", color='black')\n",
    "plt.plot(dates, y_pred_samples_cell, label=\"Predicted Mean\", color='blue')\n",
    "plt.title(\"Observed vs Predicted Daily Accidents\")\n",
    "plt.xlabel(\"Date\")\n",
    "plt.ylabel(\"Accident Count\")\n",
    "plt.grid(True)\n",
    "plt.legend()\n",
    "plt.tight_layout()\n",
    "plt.show()"
   ]
  },
  {
   "cell_type": "code",
   "execution_count": null,
   "metadata": {},
   "outputs": [],
   "source": []
  }
 ],
 "metadata": {
  "kernelspec": {
   "display_name": "Python 3 (ipykernel)",
   "language": "python",
   "name": "python3"
  },
  "language_info": {
   "codemirror_mode": {
    "name": "ipython",
    "version": 3
   },
   "file_extension": ".py",
   "mimetype": "text/x-python",
   "name": "python",
   "nbconvert_exporter": "python",
   "pygments_lexer": "ipython3",
   "version": "3.13.3"
  }
 },
 "nbformat": 4,
 "nbformat_minor": 2
}
