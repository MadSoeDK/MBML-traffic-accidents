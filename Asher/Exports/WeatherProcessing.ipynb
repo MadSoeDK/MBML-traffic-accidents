{
 "cells": [
  {
   "cell_type": "code",
   "execution_count": 25,
   "metadata": {},
   "outputs": [],
   "source": [
    "import numpy as np\n",
    "import pandas as pd\n"
   ]
  },
  {
   "cell_type": "code",
   "execution_count": 28,
   "metadata": {},
   "outputs": [
    {
     "name": "stdout",
     "output_type": "stream",
     "text": [
      "<class 'pandas.core.frame.DataFrame'>\n",
      "0         2011\n",
      "1         2011\n",
      "2         2011\n",
      "3         2011\n",
      "4         2011\n",
      "          ... \n",
      "125454    2025\n",
      "125455    2025\n",
      "125456    2025\n",
      "125457    2025\n",
      "125458    2025\n",
      "Name: Time, Length: 125459, dtype: int32\n",
      "Index(['Time', 'acc_precip', 'mean_temp', 'mean_relative_hum',\n",
      "       'mean_wind_speed', 'mean_radiation'],\n",
      "      dtype='object')\n"
     ]
    }
   ],
   "source": [
    "full_weather = pd.read_csv(\"/Users/asherkite/Desktop/School/Courses/MBML/MBML_Project/MBML_github/MBML-traffic-accidents/Asher/Exports/55.786275_12.524242_dmidata_DTU.csv\",\n",
    "                           parse_dates=[\"Time\"])\n",
    "print(type(full_weather))\n",
    "#print(full_weather[\"Time\"])\n",
    "w2023 = []\n",
    "TimeSeries = full_weather[\"Time\"]\n",
    "print(TimeSeries.dt.year)\n",
    "for i in range(len(TimeSeries)):\n",
    "    if TimeSeries[i].year == 2023:\n",
    "        w2023.append(full_weather.iloc[i])\n",
    "\n",
    "w2023 = pd.DataFrame(w2023)\n",
    "print(w2023.columns)\n",
    "\n"
   ]
  },
  {
   "cell_type": "code",
   "execution_count": 27,
   "metadata": {},
   "outputs": [],
   "source": [
    "w2023.to_csv (\"2023_Weather\")"
   ]
  }
 ],
 "metadata": {
  "kernelspec": {
   "display_name": "Python 3",
   "language": "python",
   "name": "python3"
  },
  "language_info": {
   "codemirror_mode": {
    "name": "ipython",
    "version": 3
   },
   "file_extension": ".py",
   "mimetype": "text/x-python",
   "name": "python",
   "nbconvert_exporter": "python",
   "pygments_lexer": "ipython3",
   "version": "3.9.6"
  }
 },
 "nbformat": 4,
 "nbformat_minor": 2
}
