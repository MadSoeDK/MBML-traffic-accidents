{
 "cells": [
  {
   "cell_type": "code",
   "execution_count": 24,
   "metadata": {},
   "outputs": [],
   "source": [
    "from pyproj import Transformer\n",
    "import pandas as pd\n",
    "\n",
    "# Define a transformer: from UTM Zone 32N (EPSG:32632) to WGS84\n",
    "transformer = Transformer.from_crs(\"EPSG:32632\", \"EPSG:4326\", always_xy=True)"
   ]
  },
  {
   "cell_type": "code",
   "execution_count": 44,
   "metadata": {},
   "outputs": [
    {
     "name": "stderr",
     "output_type": "stream",
     "text": [
      "/var/folders/h6/d2ttd9q92dqcvwk3_r7sjb180000gn/T/ipykernel_13020/2221443251.py:4: SettingWithCopyWarning: \n",
      "A value is trying to be set on a copy of a slice from a DataFrame.\n",
      "Try using .loc[row_indexer,col_indexer] = value instead\n",
      "\n",
      "See the caveats in the documentation: https://pandas.pydata.org/pandas-docs/stable/user_guide/indexing.html#returning-a-view-versus-a-copy\n",
      "  coord_frame.loc[:, \"LON\"] = None\n",
      "/var/folders/h6/d2ttd9q92dqcvwk3_r7sjb180000gn/T/ipykernel_13020/2221443251.py:5: SettingWithCopyWarning: \n",
      "A value is trying to be set on a copy of a slice from a DataFrame.\n",
      "Try using .loc[row_indexer,col_indexer] = value instead\n",
      "\n",
      "See the caveats in the documentation: https://pandas.pydata.org/pandas-docs/stable/user_guide/indexing.html#returning-a-view-versus-a-copy\n",
      "  coord_frame.loc[:, \"LAT\"] = None\n"
     ]
    }
   ],
   "source": [
    "coordinate_dataframe = pd.read_csv(\"grid.csv\",sep=\",\").copy()\n",
    "\n",
    "coord_frame = coordinate_dataframe[[\"center_x\",\"center_y\"]]\n",
    "coord_frame.loc[:, \"LON\"] = None\n",
    "coord_frame.loc[:, \"LAT\"] = None\n",
    "\n",
    "for index, row in coord_frame.iterrows():\n",
    "    x = float(coord_frame.loc[index,\"center_x\"])\n",
    "    y = float(coord_frame.loc[index,\"center_y\"])\n",
    "    lon, lat = transformer.transform(x, y)\n",
    "    coord_frame.loc[index, \"LON\"] = lon\n",
    "    coord_frame.loc[index, \"LAT\"] = lat\n",
    "\n",
    "coord_frame.to_csv (\"coord_grid.csv\")\n",
    "\n"
   ]
  },
  {
   "cell_type": "code",
   "execution_count": null,
   "metadata": {},
   "outputs": [],
   "source": [
    "lon, lat = transformer.transform(x, y)\n",
    "\n",
    "print(f\"Latitude: {lat:.8f}°, Longitude: {lon:.8f}°\")"
   ]
  }
 ],
 "metadata": {
  "kernelspec": {
   "display_name": "Python 3",
   "language": "python",
   "name": "python3"
  },
  "language_info": {
   "codemirror_mode": {
    "name": "ipython",
    "version": 3
   },
   "file_extension": ".py",
   "mimetype": "text/x-python",
   "name": "python",
   "nbconvert_exporter": "python",
   "pygments_lexer": "ipython3",
   "version": "3.9.6"
  }
 },
 "nbformat": 4,
 "nbformat_minor": 2
}
